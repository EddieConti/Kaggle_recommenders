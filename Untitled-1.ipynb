{
 "cells": [
  {
   "cell_type": "code",
   "execution_count": 20,
   "metadata": {},
   "outputs": [],
   "source": [
    "#Libraries\n",
    "import pandas as pd\n",
    "import numpy as np\n",
    "import matplotlib.pyplot as plt\n",
    "import wikipedia\n",
    "import regex as re\n",
    "from tqdm import tqdm\n",
    "import seaborn as sn\n",
    "import pickle\n",
    "import csv\n",
    "from scipy.sparse import csr_matrix\n",
    "import nltk\n",
    "from nltk.tokenize import word_tokenize\n",
    "from sklearn.feature_extraction.text import TfidfVectorizer\n",
    "from gensim.models import Word2Vec\n",
    "\n"
   ]
  },
  {
   "cell_type": "code",
   "execution_count": 16,
   "metadata": {},
   "outputs": [
    {
     "name": "stderr",
     "output_type": "stream",
     "text": [
      "[nltk_data] Downloading package punkt to\n",
      "[nltk_data]     C:\\Users\\Eddie\\AppData\\Roaming\\nltk_data...\n",
      "[nltk_data]   Package punkt is already up-to-date!\n"
     ]
    },
    {
     "data": {
      "text/plain": [
       "True"
      ]
     },
     "execution_count": 16,
     "metadata": {},
     "output_type": "execute_result"
    }
   ],
   "source": [
    "nltk.download('punkt')"
   ]
  },
  {
   "cell_type": "markdown",
   "metadata": {},
   "source": [
    "### Uploading visualization and Exploratory analysis"
   ]
  },
  {
   "cell_type": "code",
   "execution_count": 11,
   "metadata": {},
   "outputs": [],
   "source": [
    "df=pd.read_csv('C:/Users/Eddie/OneDrive/Desktop/Data Science/recommenders/kaggle_recommenders/train.csv', sep=',')\n",
    "df = df.rename(columns={'sex': 'age1'})\n",
    "df = df.rename(columns={'age': 'sex'})\n",
    "df = df.rename(columns={'age1':'age'})\n",
    "df = df.rename(columns={'release_date' : 'genre'})\n",
    "df['genre'] = df['genre'].str.split('|')\n",
    "df['sex'] = df['sex'].replace('M',1)\n",
    "df['sex'] = df['sex'].replace('F',0)\n",
    "df['age'] = (df['age']-df['age'].mean())/(df['age'].std())"
   ]
  },
  {
   "cell_type": "code",
   "execution_count": 9,
   "metadata": {},
   "outputs": [
    {
     "name": "stdout",
     "output_type": "stream",
     "text": [
      "<class 'pandas.core.frame.DataFrame'>\n",
      "RangeIndex: 800167 entries, 0 to 800166\n",
      "Data columns (total 7 columns):\n",
      " #   Column    Non-Null Count   Dtype \n",
      "---  ------    --------------   ----- \n",
      " 0   user_id   800167 non-null  int64 \n",
      " 1   title     800167 non-null  object\n",
      " 2   movie_id  800167 non-null  int64 \n",
      " 3   rating    800167 non-null  int64 \n",
      " 4   genre     800167 non-null  object\n",
      " 5   age       800167 non-null  int64 \n",
      " 6   sex       800167 non-null  int64 \n",
      "dtypes: int64(5), object(2)\n",
      "memory usage: 42.7+ MB\n"
     ]
    },
    {
     "data": {
      "text/html": [
       "<div>\n",
       "<style scoped>\n",
       "    .dataframe tbody tr th:only-of-type {\n",
       "        vertical-align: middle;\n",
       "    }\n",
       "\n",
       "    .dataframe tbody tr th {\n",
       "        vertical-align: top;\n",
       "    }\n",
       "\n",
       "    .dataframe thead th {\n",
       "        text-align: right;\n",
       "    }\n",
       "</style>\n",
       "<table border=\"1\" class=\"dataframe\">\n",
       "  <thead>\n",
       "    <tr style=\"text-align: right;\">\n",
       "      <th></th>\n",
       "      <th>user_id</th>\n",
       "      <th>title</th>\n",
       "      <th>movie_id</th>\n",
       "      <th>rating</th>\n",
       "      <th>genre</th>\n",
       "      <th>age</th>\n",
       "      <th>sex</th>\n",
       "    </tr>\n",
       "  </thead>\n",
       "  <tbody>\n",
       "    <tr>\n",
       "      <th>0</th>\n",
       "      <td>2592</td>\n",
       "      <td>Top Gun (1986)</td>\n",
       "      <td>1101</td>\n",
       "      <td>4</td>\n",
       "      <td>[Action, Romance]</td>\n",
       "      <td>50</td>\n",
       "      <td>1</td>\n",
       "    </tr>\n",
       "    <tr>\n",
       "      <th>1</th>\n",
       "      <td>4318</td>\n",
       "      <td>12 Angry Men (1957)</td>\n",
       "      <td>1203</td>\n",
       "      <td>4</td>\n",
       "      <td>[Drama]</td>\n",
       "      <td>25</td>\n",
       "      <td>1</td>\n",
       "    </tr>\n",
       "    <tr>\n",
       "      <th>2</th>\n",
       "      <td>2756</td>\n",
       "      <td>Robocop 2 (1990)</td>\n",
       "      <td>2986</td>\n",
       "      <td>2</td>\n",
       "      <td>[Action, Crime, Sci-Fi]</td>\n",
       "      <td>18</td>\n",
       "      <td>1</td>\n",
       "    </tr>\n",
       "    <tr>\n",
       "      <th>3</th>\n",
       "      <td>1706</td>\n",
       "      <td>Modern Times (1936)</td>\n",
       "      <td>3462</td>\n",
       "      <td>5</td>\n",
       "      <td>[Comedy]</td>\n",
       "      <td>25</td>\n",
       "      <td>1</td>\n",
       "    </tr>\n",
       "    <tr>\n",
       "      <th>4</th>\n",
       "      <td>4813</td>\n",
       "      <td>Milk Money (1994)</td>\n",
       "      <td>276</td>\n",
       "      <td>3</td>\n",
       "      <td>[Comedy, Romance]</td>\n",
       "      <td>35</td>\n",
       "      <td>0</td>\n",
       "    </tr>\n",
       "  </tbody>\n",
       "</table>\n",
       "</div>"
      ],
      "text/plain": [
       "   user_id                title  movie_id  rating                    genre  \\\n",
       "0     2592       Top Gun (1986)      1101       4        [Action, Romance]   \n",
       "1     4318  12 Angry Men (1957)      1203       4                  [Drama]   \n",
       "2     2756     Robocop 2 (1990)      2986       2  [Action, Crime, Sci-Fi]   \n",
       "3     1706  Modern Times (1936)      3462       5                 [Comedy]   \n",
       "4     4813    Milk Money (1994)       276       3        [Comedy, Romance]   \n",
       "\n",
       "   age  sex  \n",
       "0   50    1  \n",
       "1   25    1  \n",
       "2   18    1  \n",
       "3   25    1  \n",
       "4   35    0  "
      ]
     },
     "execution_count": 9,
     "metadata": {},
     "output_type": "execute_result"
    }
   ],
   "source": [
    "df.info()\n",
    "df.head()"
   ]
  },
  {
   "cell_type": "code",
   "execution_count": 10,
   "metadata": {},
   "outputs": [
    {
     "name": "stdout",
     "output_type": "stream",
     "text": [
      "The database has 800167 ratings\n",
      "The database has 6040 users\n",
      "The database has 3680 movies\n",
      "\n",
      "\n",
      "The number of male users is 0\n",
      "The number of female users is 0\n",
      "\n",
      "\n"
     ]
    },
    {
     "data": {
      "image/png": "[encoded data removed]",
      "text/plain": [
       "<Figure size 1000x500 with 2 Axes>"
      ]
     },
     "metadata": {},
     "output_type": "display_data"
    },
    {
     "name": "stdout",
     "output_type": "stream",
     "text": [
      "\n",
      "\n",
      "There are 478 movies with less that 10 ratings\n"
     ]
    }
   ],
   "source": [
    "print('The database has {} ratings'.format(len(df)))\n",
    "print('The database has {} users'.format(len(set(df.user_id))))\n",
    "print('The database has {} movies'.format(len(set(df.title))))\n",
    "\n",
    "\n",
    "print('\\n')\n",
    "\n",
    "#Let us now understand how the users are distributed according to the rating, sex and age.\n",
    "df_grouped = df.groupby('user_id').agg({'rating': 'mean', 'sex': 'first', 'age': 'first'}).reset_index()\n",
    "counter_female=len(df_grouped[df_grouped['sex']=='F'])\n",
    "counter_male=len(df_grouped[df_grouped['sex']=='M'])\n",
    "print('The number of male users is {}'.format(counter_male))\n",
    "print('The number of female users is {}'.format(counter_female))\n",
    "print('\\n')\n",
    "\n",
    "\n",
    "fig, axes = plt.subplots(1, 2, figsize=(10, 5))\n",
    "\n",
    "axes[0].hist(df_grouped['age'].values, bins=10, color='blue')\n",
    "axes[0].set_xlabel('Age')\n",
    "axes[0].set_ylabel('Number of users')\n",
    "axes[0].set_title('Distribution of Age')\n",
    "\n",
    "axes[1].hist(df_grouped['rating'].values, bins=10, color='green')\n",
    "axes[1].set_xlabel('Rating')\n",
    "axes[1].set_ylabel('Number of users')\n",
    "axes[1].set_title('Distribution of Rating')\n",
    "\n",
    "plt.tight_layout()\n",
    "plt.show()\n",
    "\n",
    "\n",
    "print('\\n')\n",
    "\n",
    "#Let us now see the most viewed items and their mean ratings\n",
    "\n",
    "counter_rating=df.groupby('title').agg({'rating': 'count'})['rating'].values\n",
    "popular_movies=df.groupby('title').agg({'rating': 'mean'})\n",
    "popular_movies['ratings_count']=counter_rating\n",
    "popular_movies.sort_values(by='ratings_count', ascending=False)\n",
    "\n",
    "#NB\n",
    "\n",
    "print('There are {} movies with less that {} ratings'.format(len(popular_movies[popular_movies['ratings_count']<10]),10))\n",
    "\n"
   ]
  },
  {
   "cell_type": "code",
   "execution_count": 32,
   "metadata": {},
   "outputs": [
    {
     "data": {
      "text/html": [
       "<div>\n",
       "<style scoped>\n",
       "    .dataframe tbody tr th:only-of-type {\n",
       "        vertical-align: middle;\n",
       "    }\n",
       "\n",
       "    .dataframe tbody tr th {\n",
       "        vertical-align: top;\n",
       "    }\n",
       "\n",
       "    .dataframe thead th {\n",
       "        text-align: right;\n",
       "    }\n",
       "</style>\n",
       "<table border=\"1\" class=\"dataframe\">\n",
       "  <thead>\n",
       "    <tr style=\"text-align: right;\">\n",
       "      <th></th>\n",
       "      <th>title</th>\n",
       "    </tr>\n",
       "  </thead>\n",
       "  <tbody>\n",
       "    <tr>\n",
       "      <th>0</th>\n",
       "      <td>Top Gun (1986)</td>\n",
       "    </tr>\n",
       "    <tr>\n",
       "      <th>1</th>\n",
       "      <td>12 Angry Men (1957)</td>\n",
       "    </tr>\n",
       "    <tr>\n",
       "      <th>2</th>\n",
       "      <td>Robocop 2 (1990)</td>\n",
       "    </tr>\n",
       "    <tr>\n",
       "      <th>3</th>\n",
       "      <td>Modern Times (1936)</td>\n",
       "    </tr>\n",
       "    <tr>\n",
       "      <th>4</th>\n",
       "      <td>Milk Money (1994)</td>\n",
       "    </tr>\n",
       "    <tr>\n",
       "      <th>...</th>\n",
       "      <td>...</td>\n",
       "    </tr>\n",
       "    <tr>\n",
       "      <th>765867</th>\n",
       "      <td>Relative Fear (1994)</td>\n",
       "    </tr>\n",
       "    <tr>\n",
       "      <th>766755</th>\n",
       "      <td>Hippie Revolution, The (1996)</td>\n",
       "    </tr>\n",
       "    <tr>\n",
       "      <th>770040</th>\n",
       "      <td>Century (1993)</td>\n",
       "    </tr>\n",
       "    <tr>\n",
       "      <th>776470</th>\n",
       "      <td>August (1996)</td>\n",
       "    </tr>\n",
       "    <tr>\n",
       "      <th>796196</th>\n",
       "      <td>Coming Apart (1969)</td>\n",
       "    </tr>\n",
       "  </tbody>\n",
       "</table>\n",
       "<p>3680 rows × 1 columns</p>\n",
       "</div>"
      ],
      "text/plain": [
       "                                title\n",
       "0                      Top Gun (1986)\n",
       "1                 12 Angry Men (1957)\n",
       "2                    Robocop 2 (1990)\n",
       "3                 Modern Times (1936)\n",
       "4                   Milk Money (1994)\n",
       "...                               ...\n",
       "765867           Relative Fear (1994)\n",
       "766755  Hippie Revolution, The (1996)\n",
       "770040                 Century (1993)\n",
       "776470                  August (1996)\n",
       "796196            Coming Apart (1969)\n",
       "\n",
       "[3680 rows x 1 columns]"
      ]
     },
     "execution_count": 32,
     "metadata": {},
     "output_type": "execute_result"
    }
   ],
   "source": [
    "movies_df = df[['title']].drop_duplicates()\n",
    "movies_df"
   ]
  },
  {
   "cell_type": "code",
   "execution_count": 12,
   "metadata": {},
   "outputs": [
    {
     "name": "stdout",
     "output_type": "stream",
     "text": [
      "there are 580 empty movie plots\n"
     ]
    },
    {
     "data": {
      "text/html": [
       "<div>\n",
       "<style scoped>\n",
       "    .dataframe tbody tr th:only-of-type {\n",
       "        vertical-align: middle;\n",
       "    }\n",
       "\n",
       "    .dataframe tbody tr th {\n",
       "        vertical-align: top;\n",
       "    }\n",
       "\n",
       "    .dataframe thead th {\n",
       "        text-align: right;\n",
       "    }\n",
       "</style>\n",
       "<table border=\"1\" class=\"dataframe\">\n",
       "  <thead>\n",
       "    <tr style=\"text-align: right;\">\n",
       "      <th></th>\n",
       "      <th>title</th>\n",
       "      <th>movie_plot</th>\n",
       "    </tr>\n",
       "  </thead>\n",
       "  <tbody>\n",
       "    <tr>\n",
       "      <th>0</th>\n",
       "      <td>Top Gun (1986)</td>\n",
       "      <td></td>\n",
       "    </tr>\n",
       "    <tr>\n",
       "      <th>1</th>\n",
       "      <td>12 Angry Men (1957)</td>\n",
       "      <td>On a hot summer day, a jury in the New York Co...</td>\n",
       "    </tr>\n",
       "    <tr>\n",
       "      <th>2</th>\n",
       "      <td>Robocop 2 (1990)</td>\n",
       "      <td>In a near dystopian future, Detroit is nearing...</td>\n",
       "    </tr>\n",
       "    <tr>\n",
       "      <th>3</th>\n",
       "      <td>Modern Times (1936)</td>\n",
       "      <td>The Tramp works on an assembly line, where he ...</td>\n",
       "    </tr>\n",
       "    <tr>\n",
       "      <th>4</th>\n",
       "      <td>Milk Money (1994)</td>\n",
       "      <td>Three boys — Brad (Adam LaVorgna), Frank (Mich...</td>\n",
       "    </tr>\n",
       "  </tbody>\n",
       "</table>\n",
       "</div>"
      ],
      "text/plain": [
       "                 title                                         movie_plot\n",
       "0       Top Gun (1986)                                                   \n",
       "1  12 Angry Men (1957)  On a hot summer day, a jury in the New York Co...\n",
       "2     Robocop 2 (1990)  In a near dystopian future, Detroit is nearing...\n",
       "3  Modern Times (1936)  The Tramp works on an assembly line, where he ...\n",
       "4    Milk Money (1994)  Three boys — Brad (Adam LaVorgna), Frank (Mich..."
      ]
     },
     "execution_count": 12,
     "metadata": {},
     "output_type": "execute_result"
    }
   ],
   "source": [
    "# Let us now add some more information on the movie as the plot.\n",
    "\n",
    "def get_wikipedia_page_name(raw_name):\n",
    "    names = wikipedia.search(raw_name)\n",
    "    if len(names) == 0:\n",
    "      return ''\n",
    "    else:\n",
    "      return names[0]\n",
    "\n",
    "def get_movie_plot(page_name):\n",
    "    try:\n",
    "      try:\n",
    "        movie_page_content = str(wikipedia.page(page_name, auto_suggest=False).content)\n",
    "      except wikipedia.DisambiguationError as e:\n",
    "        for option in e.options:\n",
    "          if 'film' in option:\n",
    "            movie_page_content = str(wikipedia.page(option, auto_suggest=False).content)\n",
    "        return ''\n",
    "    except (wikipedia.PageError, KeyError):\n",
    "      return ''\n",
    "    re_groups = re.search(\"Plot ==(.*?)=+ [A-Z]\", str(movie_page_content).replace('\\n', ''))\n",
    "    if re_groups:\n",
    "      return re_groups.group(1)\n",
    "    else:\n",
    "      return ''\n",
    "\n",
    "tqdm.pandas()\n",
    "\n",
    "\n",
    "# MAYBE IT IS BETTER TO WORK ONLY WITH THE DATASET GROUPED BY TITLE, SO THAT IT WILL BE FASTER\n",
    "\n",
    "#movies_df['wikipedia_page_name'] = movies_df['title'].progress_apply(lambda name: get_wikipedia_page_name(name))\n",
    "#movies_df['movie_plot'] = movies_df['wikipedia_page_name'].progress_apply(lambda page_name: get_movie_plot(page_name))\n",
    "\n",
    "\n",
    "with open('movies_with_plot.pkl', 'rb') as f:\n",
    "  movies_df=pickle.load(f)\n",
    "\n",
    "print('there are {} empty movie plots'.format(len(movies_df[movies_df[\"movie_plot\"]==''])))\n",
    "movies_df[['title', 'movie_plot']].head()"
   ]
  },
  {
   "cell_type": "code",
   "execution_count": 21,
   "metadata": {},
   "outputs": [],
   "source": [
    "# We can try to tokenize the plot, remove useless word and then convert into a vector\n",
    "# taking into account the context and so the similarity may work better.\n",
    "\n",
    "corpus=movies_df['movie_plot'].tolist()\n",
    "vectorizer_tfidf = TfidfVectorizer(max_features=50, stop_words='english')\n",
    "movie_tfidf= vectorizer_tfidf.fit_transform(corpus)\n",
    "movie_tfidf.shape"
   ]
  },
  {
   "cell_type": "markdown",
   "metadata": {},
   "source": [
    "### Building the recommender system"
   ]
  },
  {
   "cell_type": "code",
   "execution_count": null,
   "metadata": {},
   "outputs": [],
   "source": [
    "class TopPopRecommender():\n",
    "\n",
    "    def fit(self, train):\n",
    "\n",
    "        item_popularity = train[['movie_id','rating']].groupby(by='movie_id').count()\n",
    "        self.train = train\n",
    "        # We are not interested in sorting the popularity value, but to order the items according to it\n",
    "        self.popular_items = item_popularity.sort_values(by='rating',ascending=False).index\n",
    "    \n",
    "    \n",
    "    def predict_top(self, user_id, at=5, remove_seen=True):\n",
    "\n",
    "        if remove_seen:\n",
    "            seen_items = self.train[self.train.user_id==user_id].movie_id.values\n",
    "            unseen_items_mask = np.in1d(self.popular_items, seen_items, assume_unique=True, invert = True)\n",
    "            unseen_items = self.popular_items[unseen_items_mask]\n",
    "            recommended_items = unseen_items[0:at]\n",
    "\n",
    "        else:\n",
    "            recommended_items = self.popular_items[0:at]\n",
    "        \n",
    "        return recommended_items"
   ]
  },
  {
   "cell_type": "markdown",
   "metadata": {},
   "source": [
    "We can take the items for each user that he watched, for each movie he watched $m_1,\\ldots m_s$ we can collect the similar movies $L_1,\\ldots,L_s$ where $L_i$ are lists. The final list we are going to recommend is \n",
    "$$ w_1L_1+\\ldots+w_sL_s \\quad \\text{where}\\,\\, w_i=\\frac{score_i}{5}$$"
   ]
  },
  {
   "cell_type": "code",
   "execution_count": 50,
   "metadata": {},
   "outputs": [],
   "source": [
    "# We code an item-based approach.\n",
    "\n",
    "from sklearn.neighbors import NearestNeighbors\n",
    "\n",
    "class item_item_filtering:\n",
    "    \n",
    "    def __init__(self, train):\n",
    "        self.train=train\n",
    "        self.item_user_df=df.pivot_table(values='rating',index='title', columns='user_id')\n",
    "        self.item_user_df=self.item_user_df.fillna(0)\n",
    "        self.matrix=self.item_user_df.values\n",
    "\n",
    "    def item_distance(self,metric='cosine'):\n",
    "        self.metric=metric\n",
    "        self.model= NearestNeighbors(metric=self.metric,n_neighbors=5,algorithm='brute') # we use a predetermined distance and brute force algorithm to get the nearest movies \n",
    "        self.model.fit(self.matrix)\n",
    "        \n",
    "\n",
    "\n",
    "    def predict_top(self, user_id, at=5, remove_seen=True):\n",
    "        self.user_id=user_id\n",
    "        if remove_seen:\n",
    "            seen_items = self.train[self.train.user_id == self.user_id].title.values\n",
    "            ratings = self.train[self.train.user_id == self.user_id].rating.values\n",
    "            distances_sum = np.zeros(len(self.item_user_df))   \n",
    "            i = 0\n",
    "            for item in seen_items:\n",
    "                location_of_item = self.item_user_df.loc[item].values.reshape(1, -1)\n",
    "                distances, indices = self.model.kneighbors(location_of_item, n_neighbors=len(self.item_user_df))\n",
    "                distances_sum += (ratings[i]/5) * distances.squeeze()  \n",
    "                i += 1\n",
    "\n",
    "            # We get the \"general\" closest films\n",
    "            top_indices = np.argsort(distances_sum)[:at]\n",
    "\n",
    "            # Remove movies that the user has already seen\n",
    "            top_movies_indices = [idx for idx in top_indices if self.item_user_df.index[idx] not in seen_items]\n",
    "        else:\n",
    "            top_movies_indices = top_indices\n",
    "\n",
    "        # Get top movies by indices\n",
    "        top_movies = self.item_user_df.iloc[top_movies_indices].index.tolist()\n",
    "\n",
    "        return top_movies\n",
    "\n",
    "\n"
   ]
  },
  {
   "cell_type": "code",
   "execution_count": 51,
   "metadata": {},
   "outputs": [
    {
     "name": "stdout",
     "output_type": "stream",
     "text": [
      "['$1,000,000 Duck (1971)', \"'Night Mother (1986)\", \"'Til There Was You (1997)\", \"'burbs, The (1989)\", '...And Justice for All (1979)', '1-900 (1994)', '10 Things I Hate About You (1999)', '101 Dalmatians (1961)', '101 Dalmatians (1996)', '12 Angry Men (1957)', '13th Warrior, The (1999)', '187 (1997)', '2 Days in the Valley (1996)', '20 Dates (1998)', '20,000 Leagues Under the Sea (1954)', '200 Cigarettes (1999)', '2001: A Space Odyssey (1968)', '2010 (1984)', '24 7: Twenty Four Seven (1997)', '24-hour Woman (1998)', '28 Days (2000)', '3 Ninjas: High Noon On Mega Mountain (1998)', '3 Strikes (2000)', '301, 302 (1995)', '39 Steps, The (1935)']\n",
      "['$1,000,000 Duck (1971)', \"'Night Mother (1986)\", \"'Til There Was You (1997)\", \"'burbs, The (1989)\", '...And Justice for All (1979)', '1-900 (1994)', '10 Things I Hate About You (1999)', '101 Dalmatians (1961)', '101 Dalmatians (1996)', '12 Angry Men (1957)', '13th Warrior, The (1999)', '187 (1997)', '2 Days in the Valley (1996)', '20 Dates (1998)', '20,000 Leagues Under the Sea (1954)', '200 Cigarettes (1999)', '2001: A Space Odyssey (1968)', '2010 (1984)', '24 7: Twenty Four Seven (1997)', '24-hour Woman (1998)', '28 Days (2000)', '3 Ninjas: High Noon On Mega Mountain (1998)', '3 Strikes (2000)', '301, 302 (1995)', '39 Steps, The (1935)']\n"
     ]
    }
   ],
   "source": [
    "item_filter = item_item_filtering(df)\n",
    "\n",
    "item_filter.item_distance()\n",
    "\n",
    "print(item_filter.predict_top(user_id=3,at=25))\n",
    "print(item_filter.predict_top(user_id=1,at=25))\n",
    "#print(item_filter.predict_top(user_id=10,at=25))\n",
    "\n",
    "\n",
    "\n"
   ]
  },
  {
   "cell_type": "markdown",
   "metadata": {},
   "source": [
    "### PREDICTIONS"
   ]
  },
  {
   "cell_type": "code",
   "execution_count": null,
   "metadata": {},
   "outputs": [],
   "source": [
    "topPopular = TopPopRecommender()\n",
    "topPopular.fit(train)\n",
    "\n",
    "# open the file in the write mode\n",
    "with open('solution.csv', 'w',encoding='UTF8') as f:\n",
    "    # create the csv writer\n",
    "    writer = csv.writer(f)\n",
    "    # write a row to the csv file\n",
    "    writer.writerow(['user_id', 'prediction'])\n",
    "    for user_id in test.user_id.unique():\n",
    "        relevant_items = topPopular.predict_top(user_id, at=25)\n",
    "        list_relevants = ' '.join([str(elem) for elem in relevant_items])\n",
    "        writer.writerow([str(user_id),list_relevants])"
   ]
  }
 ],
 "metadata": {
  "kernelspec": {
   "display_name": "base",
   "language": "python",
   "name": "python3"
  },
  "language_info": {
   "codemirror_mode": {
    "name": "ipython",
    "version": 3
   },
   "file_extension": ".py",
   "mimetype": "text/x-python",
   "name": "python",
   "nbconvert_exporter": "python",
   "pygments_lexer": "ipython3",
   "version": "3.11.5"
  }
 },
 "nbformat": 4,
 "nbformat_minor": 2
}
